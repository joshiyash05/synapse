{
  "nbformat": 4,
  "nbformat_minor": 0,
  "metadata": {
    "colab": {
      "name": "Task1_synapse.ipynb",
      "provenance": [],
      "collapsed_sections": []
    },
    "kernelspec": {
      "name": "python3",
      "display_name": "Python 3"
    },
    "language_info": {
      "name": "python"
    }
  },
  "cells": [
    {
      "cell_type": "code",
      "metadata": {
        "colab": {
          "base_uri": "https://localhost:8080/",
          "height": 494
        },
        "id": "TxAuQfF4sLe9",
        "outputId": "052d3d02-5aa8-468f-ace8-52914327a8dd"
      },
      "source": [
        "import cv2\n",
        "from google.colab.patches import cv2_imshow\n",
        "\n",
        "image= cv2.imread('/content/containers.png')\n",
        "original_image= image\n",
        "\n",
        "gray= cv2.cvtColor(image,cv2.COLOR_BGR2GRAY)\n",
        "print(\"The Orginal image = \")\n",
        "cv2_imshow(original_image)\n",
        "edges= cv2.Canny(gray, 50,200)\n",
        "\n",
        "contours, hierarchy= cv2.findContours(edges, cv2.RETR_EXTERNAL, cv2.CHAIN_APPROX_NONE)\n",
        "\n",
        "cv2.destroyAllWindows()\n",
        "\n",
        "sorted_contours= sorted(contours, key=cv2.contourArea, reverse= True)\n",
        "\n",
        "largest_item= sorted_contours[0]\n",
        "print(\"The image with largest rectangle marked  = \")\n",
        "cv2.drawContours(original_image, largest_item, -1, (255,0,0),10)\n",
        "cv2.waitKey(0)\n",
        "cv2_imshow(original_image)\n",
        "\n",
        "cv2.waitKey(0)\n",
        "cv2.destroyAllWindows()"
      ],
      "execution_count": 2,
      "outputs": [
        {
          "output_type": "stream",
          "name": "stdout",
          "text": [
            "The Orginal image = \n"
          ]
        },
        {
          "output_type": "display_data",
          "data": {
            "image/png": "[encoded data removed]",
            "text/plain": [
              "<PIL.Image.Image image mode=RGB size=512x222 at 0x7F8820B49C90>"
            ]
          },
          "metadata": {}
        },
        {
          "output_type": "stream",
          "name": "stdout",
          "text": [
            "The image with largest rectangle marked  = \n"
          ]
        },
        {
          "output_type": "display_data",
          "data": {
            "image/png": "[encoded data removed]",
            "text/plain": [
              "<PIL.Image.Image image mode=RGB size=512x222 at 0x7F8820B49E10>"
            ]
          },
          "metadata": {}
        }
      ]
    }
  ]
}